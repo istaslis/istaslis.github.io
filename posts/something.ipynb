{
 "cells": [
  {
   "cell_type": "markdown",
   "metadata": {},
   "source": [
    "Write your post here."
   ]
  }
 ],
 "metadata": {
  "kernelspec": {
   "display_name": "Python 3",
   "env": {},
   "language": "python",
   "name": "python3"
  },
  "nikola": {
   "category": "",
   "date": "2016-02-19 00:19:10 UTC+01:00",
   "description": "",
   "link": "",
   "slug": "something",
   "tags": "",
   "title": "Something",
   "type": "text"
  }
 },
 "nbformat": 4,
 "nbformat_minor": 0
}
