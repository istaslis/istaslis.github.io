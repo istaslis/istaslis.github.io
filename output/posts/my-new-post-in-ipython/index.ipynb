{
 "cells": [
  {
   "cell_type": "markdown",
   "metadata": {},
   "source": [
    "Write your post here."
   ]
  }
 ],
 "metadata": {
  "kernelspec": {
   "display_name": "Python 3",
   "env": {},
   "language": "python",
   "name": "python3"
  },
  "nikola": {
   "category": "",
   "date": "2016-02-19 00:25:29 UTC+01:00",
   "description": "",
   "link": "",
   "slug": "my-new-post-in-ipython",
   "tags": "",
   "title": "My new post in ipython",
   "type": "text"
  }
 },
 "nbformat": 4,
 "nbformat_minor": 0
}
